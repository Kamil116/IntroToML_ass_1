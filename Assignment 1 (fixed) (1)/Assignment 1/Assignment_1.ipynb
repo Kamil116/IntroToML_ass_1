{
 "cells": [
  {
   "cell_type": "markdown",
   "metadata": {},
   "source": [
    "# IML Assignment 1"
   ]
  },
  {
   "cell_type": "markdown",
   "metadata": {},
   "source": [
    "## Name: Kamil Mirgasimov\n",
    "\n",
    "\n",
    "## Mail: k.mirgasimov@innopolis.university\n",
    "\n",
    "\n",
    "## Group: B22-SD-02"
   ]
  },
  {
   "cell_type": "markdown",
   "metadata": {},
   "source": [
    "### Code style policy \n",
    "\n",
    "We expect you to follow https://peps.python.org/pep-0008/ Python standart style and will reduce your points if you don't. Also we ask you to comment your code when it's needed (logical blocks, function declaration, loops), however over-documentation is the evil.\n",
    "\n",
    "Example of nice code style (no need to run this cells):"
   ]
  },
  {
   "cell_type": "code",
   "execution_count": 149,
   "metadata": {
    "ExecuteTime": {
     "end_time": "2024-02-23T15:54:46.220037700Z",
     "start_time": "2024-02-23T15:54:45.648390400Z"
    }
   },
   "outputs": [],
   "source": [
    "# This function returns the sum of parameters\n",
    "# @param my_param1 - here I explain what this parameter means\n",
    "# @param my_param2 - here I explain what this parameter means\n",
    "# @return - result of func if it's not void\n",
    "def my_func(my_param1: int, my_param2: int):\n",
    "    return my_param1 + my_param2"
   ]
  },
  {
   "cell_type": "markdown",
   "metadata": {},
   "source": [
    "There are few lines only, but they are represents important logical blocks, thus you should explain what their purpose:"
   ]
  },
  {
   "cell_type": "code",
   "execution_count": 150,
   "metadata": {
    "ExecuteTime": {
     "end_time": "2024-02-23T15:54:46.287994600Z",
     "start_time": "2024-02-23T15:54:46.224035200Z"
    }
   },
   "outputs": [],
   "source": [
    "# from my_training_package import my_regression, my_loader\n",
    "\n",
    "# # Data loading\n",
    "# x, y = my_loader.load(\"some.csv\")\n",
    "\n",
    "# # Training\n",
    "# reg = my_regression()\n",
    "# reg.train(x,y)\n",
    "\n",
    "# # Evaluation on the same data set\n",
    "# y_pred = reg.evaluation(y)"
   ]
  },
  {
   "cell_type": "markdown",
   "metadata": {},
   "source": [
    "Example of too detailed and meaningless commenting that is not welcome:"
   ]
  },
  {
   "cell_type": "code",
   "execution_count": 151,
   "metadata": {
    "ExecuteTime": {
     "end_time": "2024-02-23T15:54:46.374941300Z",
     "start_time": "2024-02-23T15:54:46.289995900Z"
    }
   },
   "outputs": [
    {
     "name": "stdout",
     "output_type": "stream",
     "text": [
      "5\n"
     ]
    }
   ],
   "source": [
    "# Import numpy package\n",
    "import numpy as np\n",
    "\n",
    "# This is variable x\n",
    "x = 5\n",
    "# This is variable y\n",
    "y = 10\n",
    "# Print x\n",
    "print(x)"
   ]
  },
  {
   "cell_type": "markdown",
   "metadata": {},
   "source": [
    "Ultimately, we belive in your programming common sense :) The purpose of clear code style is fast and smooth grading of your implementation and checking that you understand ML concepts."
   ]
  },
  {
   "cell_type": "markdown",
   "metadata": {},
   "source": [
    "## Task 1"
   ]
  },
  {
   "cell_type": "markdown",
   "metadata": {},
   "source": [
    "### 3.1. Linear Regression\n",
    "#### Data reading"
   ]
  },
  {
   "cell_type": "code",
   "execution_count": 152,
   "metadata": {
    "ExecuteTime": {
     "end_time": "2024-02-23T15:54:46.418913700Z",
     "start_time": "2024-02-23T15:54:46.376944Z"
    }
   },
   "outputs": [],
   "source": [
    "import pandas as pd\n",
    "\n",
    "# TODO Write your code here\n",
    "df = pd.read_csv('train_1.csv')"
   ]
  },
  {
   "cell_type": "markdown",
   "metadata": {},
   "source": [
    "#### Train\\validation splitting"
   ]
  },
  {
   "cell_type": "code",
   "execution_count": 153,
   "metadata": {
    "ExecuteTime": {
     "end_time": "2024-02-23T15:54:46.516853100Z",
     "start_time": "2024-02-23T15:54:46.417914600Z"
    }
   },
   "outputs": [],
   "source": [
    "from sklearn.model_selection import train_test_split\n",
    "\n",
    "# TODO Write your code here\n",
    "x = df.drop(['y'], axis=1)\n",
    "y = df.loc[:, \"y\"]\n",
    "x_train, x_test, y_train, y_test = train_test_split(x, y, test_size=0.2)"
   ]
  },
  {
   "cell_type": "markdown",
   "metadata": {},
   "source": [
    "#### Linear regression model fitting"
   ]
  },
  {
   "cell_type": "code",
   "execution_count": 154,
   "metadata": {
    "ExecuteTime": {
     "end_time": "2024-02-23T15:54:46.558827400Z",
     "start_time": "2024-02-23T15:54:46.493867100Z"
    }
   },
   "outputs": [],
   "source": [
    "from sklearn.linear_model import LinearRegression\n",
    "\n",
    "# Declare and train a linear regression model\n",
    "# TODO Write your code here\n",
    "linear_model = LinearRegression()\n",
    "linear_model.fit(x_train, y_train)\n",
    "\n",
    "# Prediction by model on the validation set\n",
    "# TODO Write your code here\n",
    "y_pred_lr = linear_model.predict(x_test)"
   ]
  },
  {
   "cell_type": "markdown",
   "metadata": {},
   "source": [
    "#### Linear regression model prediction & Evaluation\n"
   ]
  },
  {
   "cell_type": "code",
   "execution_count": 155,
   "metadata": {
    "ExecuteTime": {
     "end_time": "2024-02-23T15:54:46.671757Z",
     "start_time": "2024-02-23T15:54:46.552832300Z"
    }
   },
   "outputs": [
    {
     "name": "stdout",
     "output_type": "stream",
     "text": [
      "Mean squared error: 4760.8919492439145\n",
      "Root mean squared error: 68.99921701906418\n",
      "Mean absolute error: 59.726963530513444\n",
      "R-2 score: 0.8186425742114126\n"
     ]
    }
   ],
   "source": [
    "from sklearn import metrics\n",
    "\n",
    "\n",
    "# Print MSE, RMSE, MAE and R2 score\n",
    "def print_metrics(y_actual, y_pred):\n",
    "    mse = metrics.mean_squared_error(y_actual, y_pred)\n",
    "    rmse = np.sqrt(mse)\n",
    "    mae = metrics.mean_absolute_error(y_actual, y_pred)\n",
    "    r_2 = metrics.r2_score(y_actual, y_pred)\n",
    "    print('Mean squared error:', mse)\n",
    "    print('Root mean squared error:', rmse)\n",
    "    print('Mean absolute error:', mae)\n",
    "    print('R-2 score:', r_2)\n",
    "\n",
    "\n",
    "print_metrics(y_test, y_pred_lr)"
   ]
  },
  {
   "cell_type": "markdown",
   "metadata": {},
   "source": [
    "### 3. 2 Polynomial Regression\n",
    "#### Constructing the polynomial regression pipeline"
   ]
  },
  {
   "cell_type": "code",
   "execution_count": 156,
   "metadata": {
    "ExecuteTime": {
     "end_time": "2024-02-23T15:54:46.694743700Z",
     "start_time": "2024-02-23T15:54:46.655768200Z"
    }
   },
   "outputs": [],
   "source": [
    "import numpy as np\n",
    "from sklearn.pipeline import Pipeline\n",
    "from sklearn.preprocessing import PolynomialFeatures\n",
    "from sklearn.linear_model import LinearRegression\n",
    "from sklearn.model_selection import cross_val_score"
   ]
  },
  {
   "cell_type": "code",
   "execution_count": 157,
   "metadata": {
    "ExecuteTime": {
     "end_time": "2024-02-23T15:54:46.807673700Z",
     "start_time": "2024-02-23T15:54:46.698741300Z"
    }
   },
   "outputs": [],
   "source": [
    "# TODO Write your code here\n",
    "polynomial_degree = PolynomialFeatures(degree=2)\n",
    "linear_regression = LinearRegression()\n",
    "pipeline = Pipeline([(\"polynom\", polynomial_degree),\n",
    "                     (\"linear_regression\", linear_regression)])"
   ]
  },
  {
   "cell_type": "markdown",
   "metadata": {},
   "source": [
    "#### Tuning the degree hyper-parameter using GridSearch"
   ]
  },
  {
   "cell_type": "code",
   "execution_count": 158,
   "metadata": {
    "ExecuteTime": {
     "end_time": "2024-02-23T15:54:49.193323Z",
     "start_time": "2024-02-23T15:54:46.792683100Z"
    }
   },
   "outputs": [
    {
     "name": "stdout",
     "output_type": "stream",
     "text": [
      "Best parameter: {'polynom__degree': 4}\n",
      "search score: [ -7.50927334  -9.42470387 -17.47431831 -10.3213842  -44.04059636]\n"
     ]
    }
   ],
   "source": [
    "from sklearn.model_selection import GridSearchCV\n",
    "\n",
    "# Declare a GridSearch instance \n",
    "# TODO Write your code here\n",
    "search = GridSearchCV(estimator=pipeline, param_grid={'polynom__degree': range(2, 6)}, cv=8,\n",
    "                      scoring='neg_mean_squared_error')\n",
    "\n",
    "# Train the GridSearch\n",
    "# TODO Write your code here\n",
    "grid_search = search.fit(x_train, y_train)\n",
    "y_pred = grid_search.best_estimator_.predict(x_test)\n",
    "\n",
    "# Find the optimum degrees\n",
    "# TODO Write your code here\n",
    "print(f\"Best parameter: {grid_search.best_params_}\")\n",
    "\n",
    "# Print the GridSearchCV score\n",
    "# TODO Write your code here\n",
    "# TODO\n",
    "print(f\"search score: {cross_val_score(grid_search, x_train, y_train)}\")"
   ]
  },
  {
   "cell_type": "code",
   "execution_count": 159,
   "metadata": {
    "ExecuteTime": {
     "end_time": "2024-02-23T15:54:49.208312900Z",
     "start_time": "2024-02-23T15:54:49.184329Z"
    }
   },
   "outputs": [
    {
     "name": "stdout",
     "output_type": "stream",
     "text": [
      "Mean squared error: 0.7661304954487596\n",
      "Root mean squared error: 0.8752888068796262\n",
      "Mean absolute error: 0.6453834416592811\n",
      "R-2 score: 0.9999708156673258\n"
     ]
    }
   ],
   "source": [
    "print_metrics(y_actual=y_test, y_pred=y_pred)"
   ]
  },
  {
   "cell_type": "markdown",
   "metadata": {},
   "source": [
    "#### Save the model"
   ]
  },
  {
   "cell_type": "code",
   "execution_count": 160,
   "metadata": {
    "ExecuteTime": {
     "end_time": "2024-02-23T15:54:49.264278700Z",
     "start_time": "2024-02-23T15:54:49.196320400Z"
    }
   },
   "outputs": [],
   "source": [
    "import pickle\n",
    "\n",
    "# Save the GridSearch model for evaluation\n",
    "filename = 'poly_optimized_model.sav'\n",
    "pickle.dump(search, open(filename, 'wb'))"
   ]
  },
  {
   "cell_type": "markdown",
   "metadata": {},
   "source": [
    "### 3.3 Determine the linear dependent features\n",
    "\n",
    "Use the following code cell to determine a pair of features from the training dataset that are correlated to each other. Explain your choise in the markdown cell."
   ]
  },
  {
   "cell_type": "code",
   "execution_count": 161,
   "metadata": {
    "ExecuteTime": {
     "end_time": "2024-02-23T15:54:49.290262700Z",
     "start_time": "2024-02-23T15:54:49.210312900Z"
    }
   },
   "outputs": [
    {
     "name": "stdout",
     "output_type": "stream",
     "text": [
      "Correlation for X_1 and X_2: 0.39338882062718633\n",
      "Correlation for X_1 and X_3: 0.6964506177005841\n",
      "Correlation for X_1 and X_4: 0.7162306612508837\n",
      "Correlation for X_2 and X_3: -0.3689174252604542\n",
      "Correlation for X_2 and X_4: 0.9026708037739416\n",
      "Correlation for X_3 and X_4: -0.0017733618103473517\n"
     ]
    }
   ],
   "source": [
    "# TODO Write your code here\n",
    "df_modified = df.drop(df.columns[[0, -1]], axis=1)\n",
    "for i in range(len(df_modified.columns)):\n",
    "    for j in range(i + 1, len(df_modified.columns)):\n",
    "        row_i = df_modified.iloc[i]\n",
    "        row_j = df_modified.iloc[j]\n",
    "        correlation = row_i.corr(row_j)\n",
    "        print(f'Correlation for {df_modified.columns[i]} and {df_modified.columns[j]}: {correlation}')\n",
    "\n"
   ]
  },
  {
   "cell_type": "markdown",
   "metadata": {},
   "source": []
  },
  {
   "cell_type": "markdown",
   "metadata": {},
   "source": [
    "## Task 2"
   ]
  },
  {
   "cell_type": "markdown",
   "metadata": {},
   "source": [
    "### 4.1 Data processing\n",
    "#### Loading the dataset"
   ]
  },
  {
   "cell_type": "code",
   "execution_count": 162,
   "metadata": {
    "ExecuteTime": {
     "end_time": "2024-02-23T15:54:49.293261Z",
     "start_time": "2024-02-23T15:54:49.225417500Z"
    }
   },
   "outputs": [],
   "source": [
    "import pandas as pd"
   ]
  },
  {
   "cell_type": "markdown",
   "metadata": {},
   "source": [
    "#### Exploring the dataset  and removing 2 redundant features"
   ]
  },
  {
   "cell_type": "code",
   "execution_count": 171,
   "metadata": {
    "ExecuteTime": {
     "end_time": "2024-02-23T15:58:00.880680600Z",
     "start_time": "2024-02-23T15:58:00.824851600Z"
    }
   },
   "outputs": [
    {
     "name": "stdout",
     "output_type": "stream",
     "text": [
      "<class 'pandas.core.frame.DataFrame'>\n",
      "RangeIndex: 801 entries, 0 to 800\n",
      "Data columns (total 37 columns):\n",
      " #   Column             Non-Null Count  Dtype  \n",
      "---  ------             --------------  -----  \n",
      " 0   against_bug        801 non-null    float64\n",
      " 1   against_dark       801 non-null    float64\n",
      " 2   against_dragon     801 non-null    float64\n",
      " 3   against_electric   801 non-null    float64\n",
      " 4   against_fairy      801 non-null    float64\n",
      " 5   against_fight      801 non-null    float64\n",
      " 6   against_fire       801 non-null    float64\n",
      " 7   against_flying     801 non-null    float64\n",
      " 8   against_ghost      801 non-null    float64\n",
      " 9   against_grass      801 non-null    float64\n",
      " 10  against_ground     801 non-null    float64\n",
      " 11  against_ice        801 non-null    float64\n",
      " 12  against_normal     801 non-null    float64\n",
      " 13  against_poison     801 non-null    float64\n",
      " 14  against_psychic    801 non-null    float64\n",
      " 15  against_rock       801 non-null    float64\n",
      " 16  against_steel      801 non-null    float64\n",
      " 17  against_water      801 non-null    float64\n",
      " 18  attack             801 non-null    int64  \n",
      " 19  base_egg_steps     801 non-null    int64  \n",
      " 20  base_happiness     801 non-null    int64  \n",
      " 21  base_total         801 non-null    int64  \n",
      " 22  capture_rate       801 non-null    int64  \n",
      " 23  classification     801 non-null    object \n",
      " 24  defense            801 non-null    int64  \n",
      " 25  experience_growth  801 non-null    int64  \n",
      " 26  height_m           781 non-null    float64\n",
      " 27  hp                 801 non-null    int64  \n",
      " 28  name               801 non-null    object \n",
      " 29  percentage_male    703 non-null    float64\n",
      " 30  type1              801 non-null    object \n",
      " 31  sp_attack          801 non-null    int64  \n",
      " 32  sp_defense         801 non-null    int64  \n",
      " 33  speed              801 non-null    int64  \n",
      " 34  weight_kg          781 non-null    float64\n",
      " 35  generation         801 non-null    int64  \n",
      " 36  is_legendary       801 non-null    int64  \n",
      "dtypes: float64(21), int64(13), object(3)\n",
      "memory usage: 231.7+ KB\n"
     ]
    },
    {
     "data": {
      "text/plain": "     against_bug  against_dark  against_dragon  against_electric  \\\n0           1.00           1.0             1.0               0.5   \n1           1.00           1.0             1.0               0.5   \n2           1.00           1.0             1.0               0.5   \n3           0.50           1.0             1.0               1.0   \n4           0.50           1.0             1.0               1.0   \n..           ...           ...             ...               ...   \n796         0.25           1.0             0.5               2.0   \n797         1.00           1.0             0.5               0.5   \n798         2.00           0.5             2.0               0.5   \n799         2.00           2.0             1.0               1.0   \n800         0.25           0.5             0.0               1.0   \n\n     against_fairy  against_fight  against_fire  against_flying  \\\n0              0.5            0.5           2.0             2.0   \n1              0.5            0.5           2.0             2.0   \n2              0.5            0.5           2.0             2.0   \n3              0.5            1.0           0.5             1.0   \n4              0.5            1.0           0.5             1.0   \n..             ...            ...           ...             ...   \n796            0.5            1.0           2.0             0.5   \n797            0.5            2.0           4.0             1.0   \n798            4.0            2.0           0.5             1.0   \n799            1.0            0.5           1.0             1.0   \n800            0.5            1.0           2.0             0.5   \n\n     against_ghost  against_grass  ...  height_m   hp  percentage_male  \\\n0              1.0           0.25  ...       0.7   45             88.1   \n1              1.0           0.25  ...       1.0   60             88.1   \n2              1.0           0.25  ...       2.0   80             88.1   \n3              1.0           0.50  ...       0.6   39             88.1   \n4              1.0           0.50  ...       1.1   58             88.1   \n..             ...            ...  ...       ...  ...              ...   \n796            1.0           0.25  ...       9.2   97              NaN   \n797            1.0           0.25  ...       0.3   59              NaN   \n798            0.5           0.50  ...       5.5  223              NaN   \n799            2.0           1.00  ...       2.4   97              NaN   \n800            1.0           0.50  ...       1.0   80              NaN   \n\n       type1  sp_attack  sp_defense  speed  weight_kg  generation  \\\n0      grass         65          65     45        6.9           1   \n1      grass         80          80     60       13.0           1   \n2      grass        122         120     80      100.0           1   \n3       fire         60          50     65        8.5           1   \n4       fire         80          65     80       19.0           1   \n..       ...        ...         ...    ...        ...         ...   \n796    steel        107         101     61      999.9           7   \n797    grass         59          31    109        0.1           7   \n798     dark         97          53     43      888.0           7   \n799  psychic        127          89     79      230.0           7   \n800    steel        130         115     65       80.5           7   \n\n     is_legendary  \n0               0  \n1               0  \n2               0  \n3               0  \n4               0  \n..            ...  \n796             1  \n797             1  \n798             1  \n799             1  \n800             1  \n\n[801 rows x 35 columns]",
      "text/html": "<div>\n<style scoped>\n    .dataframe tbody tr th:only-of-type {\n        vertical-align: middle;\n    }\n\n    .dataframe tbody tr th {\n        vertical-align: top;\n    }\n\n    .dataframe thead th {\n        text-align: right;\n    }\n</style>\n<table border=\"1\" class=\"dataframe\">\n  <thead>\n    <tr style=\"text-align: right;\">\n      <th></th>\n      <th>against_bug</th>\n      <th>against_dark</th>\n      <th>against_dragon</th>\n      <th>against_electric</th>\n      <th>against_fairy</th>\n      <th>against_fight</th>\n      <th>against_fire</th>\n      <th>against_flying</th>\n      <th>against_ghost</th>\n      <th>against_grass</th>\n      <th>...</th>\n      <th>height_m</th>\n      <th>hp</th>\n      <th>percentage_male</th>\n      <th>type1</th>\n      <th>sp_attack</th>\n      <th>sp_defense</th>\n      <th>speed</th>\n      <th>weight_kg</th>\n      <th>generation</th>\n      <th>is_legendary</th>\n    </tr>\n  </thead>\n  <tbody>\n    <tr>\n      <th>0</th>\n      <td>1.00</td>\n      <td>1.0</td>\n      <td>1.0</td>\n      <td>0.5</td>\n      <td>0.5</td>\n      <td>0.5</td>\n      <td>2.0</td>\n      <td>2.0</td>\n      <td>1.0</td>\n      <td>0.25</td>\n      <td>...</td>\n      <td>0.7</td>\n      <td>45</td>\n      <td>88.1</td>\n      <td>grass</td>\n      <td>65</td>\n      <td>65</td>\n      <td>45</td>\n      <td>6.9</td>\n      <td>1</td>\n      <td>0</td>\n    </tr>\n    <tr>\n      <th>1</th>\n      <td>1.00</td>\n      <td>1.0</td>\n      <td>1.0</td>\n      <td>0.5</td>\n      <td>0.5</td>\n      <td>0.5</td>\n      <td>2.0</td>\n      <td>2.0</td>\n      <td>1.0</td>\n      <td>0.25</td>\n      <td>...</td>\n      <td>1.0</td>\n      <td>60</td>\n      <td>88.1</td>\n      <td>grass</td>\n      <td>80</td>\n      <td>80</td>\n      <td>60</td>\n      <td>13.0</td>\n      <td>1</td>\n      <td>0</td>\n    </tr>\n    <tr>\n      <th>2</th>\n      <td>1.00</td>\n      <td>1.0</td>\n      <td>1.0</td>\n      <td>0.5</td>\n      <td>0.5</td>\n      <td>0.5</td>\n      <td>2.0</td>\n      <td>2.0</td>\n      <td>1.0</td>\n      <td>0.25</td>\n      <td>...</td>\n      <td>2.0</td>\n      <td>80</td>\n      <td>88.1</td>\n      <td>grass</td>\n      <td>122</td>\n      <td>120</td>\n      <td>80</td>\n      <td>100.0</td>\n      <td>1</td>\n      <td>0</td>\n    </tr>\n    <tr>\n      <th>3</th>\n      <td>0.50</td>\n      <td>1.0</td>\n      <td>1.0</td>\n      <td>1.0</td>\n      <td>0.5</td>\n      <td>1.0</td>\n      <td>0.5</td>\n      <td>1.0</td>\n      <td>1.0</td>\n      <td>0.50</td>\n      <td>...</td>\n      <td>0.6</td>\n      <td>39</td>\n      <td>88.1</td>\n      <td>fire</td>\n      <td>60</td>\n      <td>50</td>\n      <td>65</td>\n      <td>8.5</td>\n      <td>1</td>\n      <td>0</td>\n    </tr>\n    <tr>\n      <th>4</th>\n      <td>0.50</td>\n      <td>1.0</td>\n      <td>1.0</td>\n      <td>1.0</td>\n      <td>0.5</td>\n      <td>1.0</td>\n      <td>0.5</td>\n      <td>1.0</td>\n      <td>1.0</td>\n      <td>0.50</td>\n      <td>...</td>\n      <td>1.1</td>\n      <td>58</td>\n      <td>88.1</td>\n      <td>fire</td>\n      <td>80</td>\n      <td>65</td>\n      <td>80</td>\n      <td>19.0</td>\n      <td>1</td>\n      <td>0</td>\n    </tr>\n    <tr>\n      <th>...</th>\n      <td>...</td>\n      <td>...</td>\n      <td>...</td>\n      <td>...</td>\n      <td>...</td>\n      <td>...</td>\n      <td>...</td>\n      <td>...</td>\n      <td>...</td>\n      <td>...</td>\n      <td>...</td>\n      <td>...</td>\n      <td>...</td>\n      <td>...</td>\n      <td>...</td>\n      <td>...</td>\n      <td>...</td>\n      <td>...</td>\n      <td>...</td>\n      <td>...</td>\n      <td>...</td>\n    </tr>\n    <tr>\n      <th>796</th>\n      <td>0.25</td>\n      <td>1.0</td>\n      <td>0.5</td>\n      <td>2.0</td>\n      <td>0.5</td>\n      <td>1.0</td>\n      <td>2.0</td>\n      <td>0.5</td>\n      <td>1.0</td>\n      <td>0.25</td>\n      <td>...</td>\n      <td>9.2</td>\n      <td>97</td>\n      <td>NaN</td>\n      <td>steel</td>\n      <td>107</td>\n      <td>101</td>\n      <td>61</td>\n      <td>999.9</td>\n      <td>7</td>\n      <td>1</td>\n    </tr>\n    <tr>\n      <th>797</th>\n      <td>1.00</td>\n      <td>1.0</td>\n      <td>0.5</td>\n      <td>0.5</td>\n      <td>0.5</td>\n      <td>2.0</td>\n      <td>4.0</td>\n      <td>1.0</td>\n      <td>1.0</td>\n      <td>0.25</td>\n      <td>...</td>\n      <td>0.3</td>\n      <td>59</td>\n      <td>NaN</td>\n      <td>grass</td>\n      <td>59</td>\n      <td>31</td>\n      <td>109</td>\n      <td>0.1</td>\n      <td>7</td>\n      <td>1</td>\n    </tr>\n    <tr>\n      <th>798</th>\n      <td>2.00</td>\n      <td>0.5</td>\n      <td>2.0</td>\n      <td>0.5</td>\n      <td>4.0</td>\n      <td>2.0</td>\n      <td>0.5</td>\n      <td>1.0</td>\n      <td>0.5</td>\n      <td>0.50</td>\n      <td>...</td>\n      <td>5.5</td>\n      <td>223</td>\n      <td>NaN</td>\n      <td>dark</td>\n      <td>97</td>\n      <td>53</td>\n      <td>43</td>\n      <td>888.0</td>\n      <td>7</td>\n      <td>1</td>\n    </tr>\n    <tr>\n      <th>799</th>\n      <td>2.00</td>\n      <td>2.0</td>\n      <td>1.0</td>\n      <td>1.0</td>\n      <td>1.0</td>\n      <td>0.5</td>\n      <td>1.0</td>\n      <td>1.0</td>\n      <td>2.0</td>\n      <td>1.00</td>\n      <td>...</td>\n      <td>2.4</td>\n      <td>97</td>\n      <td>NaN</td>\n      <td>psychic</td>\n      <td>127</td>\n      <td>89</td>\n      <td>79</td>\n      <td>230.0</td>\n      <td>7</td>\n      <td>1</td>\n    </tr>\n    <tr>\n      <th>800</th>\n      <td>0.25</td>\n      <td>0.5</td>\n      <td>0.0</td>\n      <td>1.0</td>\n      <td>0.5</td>\n      <td>1.0</td>\n      <td>2.0</td>\n      <td>0.5</td>\n      <td>1.0</td>\n      <td>0.50</td>\n      <td>...</td>\n      <td>1.0</td>\n      <td>80</td>\n      <td>NaN</td>\n      <td>steel</td>\n      <td>130</td>\n      <td>115</td>\n      <td>65</td>\n      <td>80.5</td>\n      <td>7</td>\n      <td>1</td>\n    </tr>\n  </tbody>\n</table>\n<p>801 rows × 35 columns</p>\n</div>"
     },
     "execution_count": 171,
     "metadata": {},
     "output_type": "execute_result"
    }
   ],
   "source": [
    "# TODO Write your code here\n",
    "df = pd.read_csv('pokemon_modified.csv')\n",
    "df.head()\n",
    "df.info()\n",
    "df = df.drop(['name'], axis=1)\n",
    "df = df.drop(['classification'], axis=1)\n",
    "df"
   ]
  },
  {
   "cell_type": "markdown",
   "metadata": {},
   "source": [
    "#### Splitting the data\n",
    "Use random_state = 123, stratify, and set test_size = 0.2"
   ]
  },
  {
   "cell_type": "code",
   "execution_count": 178,
   "metadata": {
    "ExecuteTime": {
     "end_time": "2024-02-23T16:02:16.959089300Z",
     "start_time": "2024-02-23T16:02:16.945097800Z"
    }
   },
   "outputs": [],
   "source": [
    "from sklearn.model_selection import train_test_split\n",
    "\n",
    "# TODO Write your code here\n",
    "x = df.drop(['is_legendary'], axis=1)\n",
    "y = df.loc[:, \"is_legendary\"]\n",
    "X_train, X_test, y_train, y_test = train_test_split(x, y)"
   ]
  },
  {
   "cell_type": "markdown",
   "metadata": {},
   "source": [
    "Check if the dataset is balanced or not and comment on it"
   ]
  },
  {
   "cell_type": "code",
   "execution_count": null,
   "metadata": {
    "ExecuteTime": {
     "start_time": "2024-02-23T15:54:49.282269200Z"
    }
   },
   "outputs": [],
   "source": [
    "# TODO Write your code here\n",
    "print(...)"
   ]
  },
  {
   "cell_type": "markdown",
   "metadata": {},
   "source": [
    "#### Checking for missing values"
   ]
  },
  {
   "cell_type": "code",
   "execution_count": null,
   "metadata": {
    "ExecuteTime": {
     "start_time": "2024-02-23T15:54:49.285410400Z"
    }
   },
   "outputs": [],
   "source": [
    "# TODO Write your code here"
   ]
  },
  {
   "cell_type": "markdown",
   "metadata": {},
   "source": [
    "#### Impute the missing values"
   ]
  },
  {
   "cell_type": "code",
   "execution_count": 187,
   "metadata": {
    "ExecuteTime": {
     "end_time": "2024-02-23T16:08:17.067455700Z",
     "start_time": "2024-02-23T16:08:17.012490100Z"
    }
   },
   "outputs": [
    {
     "data": {
      "text/plain": "    against_bug against_dark against_dragon against_electric against_fairy  \\\n0           2.0          0.5            2.0              0.5           4.0   \n1           2.0          1.0            1.0              0.5           1.0   \n2           1.0          1.0            1.0              0.5           0.5   \n3           0.5          1.0            1.0              0.0           1.0   \n4           2.0          0.5            1.0              1.0           2.0   \n..          ...          ...            ...              ...           ...   \n595         0.5          0.5            0.0              1.0           1.0   \n596         0.5          0.5            1.0              1.0           2.0   \n597         0.5          1.0            0.5              1.0           0.5   \n598         0.5          0.5            1.0              1.0           2.0   \n599         2.0          2.0            2.0              0.5           2.0   \n\n    against_fight against_fire against_flying against_ghost against_grass  \\\n0             2.0          0.5            1.0           0.5           0.5   \n1             1.0          2.0            2.0           1.0           0.5   \n2             0.5          2.0            2.0           1.0          0.25   \n3             0.5          1.0            1.0           1.0           1.0   \n4             2.0          1.0            1.0           0.5           1.0   \n..            ...          ...            ...           ...           ...   \n595           0.5          1.0            1.0           1.0           1.0   \n596           1.0          1.0            2.0           1.0           1.0   \n597           4.0          1.0           0.25           1.0           1.0   \n598           1.0          1.0            2.0           1.0           1.0   \n599           0.5          0.5            1.0           2.0           0.5   \n\n     ... experience_growth height_m   hp percentage_male     type1 sp_attack  \\\n0    ...           1250000      1.4   72            50.0      dark        65   \n1    ...           1059860      0.8   75            50.0     grass       105   \n2    ...           1059860      2.0   80            88.1     grass       122   \n3    ...           1059860      1.1   65            50.0    ground        35   \n4    ...           1059860      1.6   60            88.1      dark       120   \n..   ...               ...      ...  ...             ...       ...       ...   \n595  ...           1250000      3.0  126            50.0     fairy       131   \n596  ...           1000000      1.3  120           100.0  fighting        30   \n597  ...           1250000      0.9   60            50.0     steel        50   \n598  ...           1000000      0.7   35           100.0  fighting        35   \n599  ...           1250000      1.4   80             0.0    dragon       140   \n\n    sp_defense speed weight_kg generation  \n0           70    58      50.0          5  \n1           85    30       8.5          2  \n2          120    80     100.0          1  \n3           65    85      64.8          2  \n4           60   105      81.1          5  \n..         ...   ...       ...        ...  \n595         98    99     215.0          6  \n596         85    45      55.5          5  \n597         50    40     120.0          3  \n598         35    35      21.0          2  \n599        150   110      40.0          3  \n\n[600 rows x 34 columns]",
      "text/html": "<div>\n<style scoped>\n    .dataframe tbody tr th:only-of-type {\n        vertical-align: middle;\n    }\n\n    .dataframe tbody tr th {\n        vertical-align: top;\n    }\n\n    .dataframe thead th {\n        text-align: right;\n    }\n</style>\n<table border=\"1\" class=\"dataframe\">\n  <thead>\n    <tr style=\"text-align: right;\">\n      <th></th>\n      <th>against_bug</th>\n      <th>against_dark</th>\n      <th>against_dragon</th>\n      <th>against_electric</th>\n      <th>against_fairy</th>\n      <th>against_fight</th>\n      <th>against_fire</th>\n      <th>against_flying</th>\n      <th>against_ghost</th>\n      <th>against_grass</th>\n      <th>...</th>\n      <th>experience_growth</th>\n      <th>height_m</th>\n      <th>hp</th>\n      <th>percentage_male</th>\n      <th>type1</th>\n      <th>sp_attack</th>\n      <th>sp_defense</th>\n      <th>speed</th>\n      <th>weight_kg</th>\n      <th>generation</th>\n    </tr>\n  </thead>\n  <tbody>\n    <tr>\n      <th>0</th>\n      <td>2.0</td>\n      <td>0.5</td>\n      <td>2.0</td>\n      <td>0.5</td>\n      <td>4.0</td>\n      <td>2.0</td>\n      <td>0.5</td>\n      <td>1.0</td>\n      <td>0.5</td>\n      <td>0.5</td>\n      <td>...</td>\n      <td>1250000</td>\n      <td>1.4</td>\n      <td>72</td>\n      <td>50.0</td>\n      <td>dark</td>\n      <td>65</td>\n      <td>70</td>\n      <td>58</td>\n      <td>50.0</td>\n      <td>5</td>\n    </tr>\n    <tr>\n      <th>1</th>\n      <td>2.0</td>\n      <td>1.0</td>\n      <td>1.0</td>\n      <td>0.5</td>\n      <td>1.0</td>\n      <td>1.0</td>\n      <td>2.0</td>\n      <td>2.0</td>\n      <td>1.0</td>\n      <td>0.5</td>\n      <td>...</td>\n      <td>1059860</td>\n      <td>0.8</td>\n      <td>75</td>\n      <td>50.0</td>\n      <td>grass</td>\n      <td>105</td>\n      <td>85</td>\n      <td>30</td>\n      <td>8.5</td>\n      <td>2</td>\n    </tr>\n    <tr>\n      <th>2</th>\n      <td>1.0</td>\n      <td>1.0</td>\n      <td>1.0</td>\n      <td>0.5</td>\n      <td>0.5</td>\n      <td>0.5</td>\n      <td>2.0</td>\n      <td>2.0</td>\n      <td>1.0</td>\n      <td>0.25</td>\n      <td>...</td>\n      <td>1059860</td>\n      <td>2.0</td>\n      <td>80</td>\n      <td>88.1</td>\n      <td>grass</td>\n      <td>122</td>\n      <td>120</td>\n      <td>80</td>\n      <td>100.0</td>\n      <td>1</td>\n    </tr>\n    <tr>\n      <th>3</th>\n      <td>0.5</td>\n      <td>1.0</td>\n      <td>1.0</td>\n      <td>0.0</td>\n      <td>1.0</td>\n      <td>0.5</td>\n      <td>1.0</td>\n      <td>1.0</td>\n      <td>1.0</td>\n      <td>1.0</td>\n      <td>...</td>\n      <td>1059860</td>\n      <td>1.1</td>\n      <td>65</td>\n      <td>50.0</td>\n      <td>ground</td>\n      <td>35</td>\n      <td>65</td>\n      <td>85</td>\n      <td>64.8</td>\n      <td>2</td>\n    </tr>\n    <tr>\n      <th>4</th>\n      <td>2.0</td>\n      <td>0.5</td>\n      <td>1.0</td>\n      <td>1.0</td>\n      <td>2.0</td>\n      <td>2.0</td>\n      <td>1.0</td>\n      <td>1.0</td>\n      <td>0.5</td>\n      <td>1.0</td>\n      <td>...</td>\n      <td>1059860</td>\n      <td>1.6</td>\n      <td>60</td>\n      <td>88.1</td>\n      <td>dark</td>\n      <td>120</td>\n      <td>60</td>\n      <td>105</td>\n      <td>81.1</td>\n      <td>5</td>\n    </tr>\n    <tr>\n      <th>...</th>\n      <td>...</td>\n      <td>...</td>\n      <td>...</td>\n      <td>...</td>\n      <td>...</td>\n      <td>...</td>\n      <td>...</td>\n      <td>...</td>\n      <td>...</td>\n      <td>...</td>\n      <td>...</td>\n      <td>...</td>\n      <td>...</td>\n      <td>...</td>\n      <td>...</td>\n      <td>...</td>\n      <td>...</td>\n      <td>...</td>\n      <td>...</td>\n      <td>...</td>\n      <td>...</td>\n    </tr>\n    <tr>\n      <th>595</th>\n      <td>0.5</td>\n      <td>0.5</td>\n      <td>0.0</td>\n      <td>1.0</td>\n      <td>1.0</td>\n      <td>0.5</td>\n      <td>1.0</td>\n      <td>1.0</td>\n      <td>1.0</td>\n      <td>1.0</td>\n      <td>...</td>\n      <td>1250000</td>\n      <td>3.0</td>\n      <td>126</td>\n      <td>50.0</td>\n      <td>fairy</td>\n      <td>131</td>\n      <td>98</td>\n      <td>99</td>\n      <td>215.0</td>\n      <td>6</td>\n    </tr>\n    <tr>\n      <th>596</th>\n      <td>0.5</td>\n      <td>0.5</td>\n      <td>1.0</td>\n      <td>1.0</td>\n      <td>2.0</td>\n      <td>1.0</td>\n      <td>1.0</td>\n      <td>2.0</td>\n      <td>1.0</td>\n      <td>1.0</td>\n      <td>...</td>\n      <td>1000000</td>\n      <td>1.3</td>\n      <td>120</td>\n      <td>100.0</td>\n      <td>fighting</td>\n      <td>30</td>\n      <td>85</td>\n      <td>45</td>\n      <td>55.5</td>\n      <td>5</td>\n    </tr>\n    <tr>\n      <th>597</th>\n      <td>0.5</td>\n      <td>1.0</td>\n      <td>0.5</td>\n      <td>1.0</td>\n      <td>0.5</td>\n      <td>4.0</td>\n      <td>1.0</td>\n      <td>0.25</td>\n      <td>1.0</td>\n      <td>1.0</td>\n      <td>...</td>\n      <td>1250000</td>\n      <td>0.9</td>\n      <td>60</td>\n      <td>50.0</td>\n      <td>steel</td>\n      <td>50</td>\n      <td>50</td>\n      <td>40</td>\n      <td>120.0</td>\n      <td>3</td>\n    </tr>\n    <tr>\n      <th>598</th>\n      <td>0.5</td>\n      <td>0.5</td>\n      <td>1.0</td>\n      <td>1.0</td>\n      <td>2.0</td>\n      <td>1.0</td>\n      <td>1.0</td>\n      <td>2.0</td>\n      <td>1.0</td>\n      <td>1.0</td>\n      <td>...</td>\n      <td>1000000</td>\n      <td>0.7</td>\n      <td>35</td>\n      <td>100.0</td>\n      <td>fighting</td>\n      <td>35</td>\n      <td>35</td>\n      <td>35</td>\n      <td>21.0</td>\n      <td>2</td>\n    </tr>\n    <tr>\n      <th>599</th>\n      <td>2.0</td>\n      <td>2.0</td>\n      <td>2.0</td>\n      <td>0.5</td>\n      <td>2.0</td>\n      <td>0.5</td>\n      <td>0.5</td>\n      <td>1.0</td>\n      <td>2.0</td>\n      <td>0.5</td>\n      <td>...</td>\n      <td>1250000</td>\n      <td>1.4</td>\n      <td>80</td>\n      <td>0.0</td>\n      <td>dragon</td>\n      <td>140</td>\n      <td>150</td>\n      <td>110</td>\n      <td>40.0</td>\n      <td>3</td>\n    </tr>\n  </tbody>\n</table>\n<p>600 rows × 34 columns</p>\n</div>"
     },
     "execution_count": 187,
     "metadata": {},
     "output_type": "execute_result"
    }
   ],
   "source": [
    "from sklearn.impute import SimpleImputer\n",
    "\n",
    "# Define a SimpleImputer instance\n",
    "# TODO Write your code here\n",
    "# imputing missing values\n",
    "imputer = SimpleImputer(strategy='most_frequent')\n",
    "\n",
    "# Apply the imputer\n",
    "# TODO Write your code here\n",
    "imputer.fit(X_train)\n",
    "X_train = pd.DataFrame(imputer.transform(X_train), columns=X_train.columns)\n",
    "X_test = pd.DataFrame(imputer.transform(X_test), columns=X_test.columns)\n",
    "X_train"
   ]
  },
  {
   "cell_type": "markdown",
   "metadata": {},
   "source": [
    "#### Double check that there are no missing values"
   ]
  },
  {
   "cell_type": "code",
   "execution_count": null,
   "metadata": {
    "ExecuteTime": {
     "start_time": "2024-02-23T15:54:49.292261800Z"
    }
   },
   "outputs": [],
   "source": [
    "# TODO Write your code here"
   ]
  },
  {
   "cell_type": "markdown",
   "metadata": {},
   "source": [
    "#### Encode categorically"
   ]
  },
  {
   "cell_type": "code",
   "execution_count": 188,
   "metadata": {
    "ExecuteTime": {
     "end_time": "2024-02-23T16:08:48.959842200Z",
     "start_time": "2024-02-23T16:08:48.912871500Z"
    }
   },
   "outputs": [
    {
     "data": {
      "text/plain": "    against_bug against_dark against_dragon against_electric against_fairy  \\\n0           2.0          0.5            2.0              0.5           4.0   \n1           2.0          1.0            1.0              0.5           1.0   \n2           1.0          1.0            1.0              0.5           0.5   \n3           0.5          1.0            1.0              0.0           1.0   \n4           2.0          0.5            1.0              1.0           2.0   \n..          ...          ...            ...              ...           ...   \n595         0.5          0.5            0.0              1.0           1.0   \n596         0.5          0.5            1.0              1.0           2.0   \n597         0.5          1.0            0.5              1.0           0.5   \n598         0.5          0.5            1.0              1.0           2.0   \n599         2.0          2.0            2.0              0.5           2.0   \n\n    against_fight against_fire against_flying against_ghost against_grass  \\\n0             2.0          0.5            1.0           0.5           0.5   \n1             1.0          2.0            2.0           1.0           0.5   \n2             0.5          2.0            2.0           1.0          0.25   \n3             0.5          1.0            1.0           1.0           1.0   \n4             2.0          1.0            1.0           0.5           1.0   \n..            ...          ...            ...           ...           ...   \n595           0.5          1.0            1.0           1.0           1.0   \n596           1.0          1.0            2.0           1.0           1.0   \n597           4.0          1.0           0.25           1.0           1.0   \n598           1.0          1.0            2.0           1.0           1.0   \n599           0.5          0.5            1.0           2.0           0.5   \n\n     ... type1_ghost type1_grass type1_ground type1_ice type1_normal  \\\n0    ...         0.0         0.0          0.0       0.0          0.0   \n1    ...         0.0         1.0          0.0       0.0          0.0   \n2    ...         0.0         1.0          0.0       0.0          0.0   \n3    ...         0.0         0.0          1.0       0.0          0.0   \n4    ...         0.0         0.0          0.0       0.0          0.0   \n..   ...         ...         ...          ...       ...          ...   \n595  ...         0.0         0.0          0.0       0.0          0.0   \n596  ...         0.0         0.0          0.0       0.0          0.0   \n597  ...         0.0         0.0          0.0       0.0          0.0   \n598  ...         0.0         0.0          0.0       0.0          0.0   \n599  ...         0.0         0.0          0.0       0.0          0.0   \n\n    type1_poison type1_psychic type1_rock type1_steel type1_water  \n0            0.0           0.0        0.0         0.0         0.0  \n1            0.0           0.0        0.0         0.0         0.0  \n2            0.0           0.0        0.0         0.0         0.0  \n3            0.0           0.0        0.0         0.0         0.0  \n4            0.0           0.0        0.0         0.0         0.0  \n..           ...           ...        ...         ...         ...  \n595          0.0           0.0        0.0         0.0         0.0  \n596          0.0           0.0        0.0         0.0         0.0  \n597          0.0           0.0        0.0         1.0         0.0  \n598          0.0           0.0        0.0         0.0         0.0  \n599          0.0           0.0        0.0         0.0         0.0  \n\n[600 rows x 49 columns]",
      "text/html": "<div>\n<style scoped>\n    .dataframe tbody tr th:only-of-type {\n        vertical-align: middle;\n    }\n\n    .dataframe tbody tr th {\n        vertical-align: top;\n    }\n\n    .dataframe thead th {\n        text-align: right;\n    }\n</style>\n<table border=\"1\" class=\"dataframe\">\n  <thead>\n    <tr style=\"text-align: right;\">\n      <th></th>\n      <th>against_bug</th>\n      <th>against_dark</th>\n      <th>against_dragon</th>\n      <th>against_electric</th>\n      <th>against_fairy</th>\n      <th>against_fight</th>\n      <th>against_fire</th>\n      <th>against_flying</th>\n      <th>against_ghost</th>\n      <th>against_grass</th>\n      <th>...</th>\n      <th>type1_ghost</th>\n      <th>type1_grass</th>\n      <th>type1_ground</th>\n      <th>type1_ice</th>\n      <th>type1_normal</th>\n      <th>type1_poison</th>\n      <th>type1_psychic</th>\n      <th>type1_rock</th>\n      <th>type1_steel</th>\n      <th>type1_water</th>\n    </tr>\n  </thead>\n  <tbody>\n    <tr>\n      <th>0</th>\n      <td>2.0</td>\n      <td>0.5</td>\n      <td>2.0</td>\n      <td>0.5</td>\n      <td>4.0</td>\n      <td>2.0</td>\n      <td>0.5</td>\n      <td>1.0</td>\n      <td>0.5</td>\n      <td>0.5</td>\n      <td>...</td>\n      <td>0.0</td>\n      <td>0.0</td>\n      <td>0.0</td>\n      <td>0.0</td>\n      <td>0.0</td>\n      <td>0.0</td>\n      <td>0.0</td>\n      <td>0.0</td>\n      <td>0.0</td>\n      <td>0.0</td>\n    </tr>\n    <tr>\n      <th>1</th>\n      <td>2.0</td>\n      <td>1.0</td>\n      <td>1.0</td>\n      <td>0.5</td>\n      <td>1.0</td>\n      <td>1.0</td>\n      <td>2.0</td>\n      <td>2.0</td>\n      <td>1.0</td>\n      <td>0.5</td>\n      <td>...</td>\n      <td>0.0</td>\n      <td>1.0</td>\n      <td>0.0</td>\n      <td>0.0</td>\n      <td>0.0</td>\n      <td>0.0</td>\n      <td>0.0</td>\n      <td>0.0</td>\n      <td>0.0</td>\n      <td>0.0</td>\n    </tr>\n    <tr>\n      <th>2</th>\n      <td>1.0</td>\n      <td>1.0</td>\n      <td>1.0</td>\n      <td>0.5</td>\n      <td>0.5</td>\n      <td>0.5</td>\n      <td>2.0</td>\n      <td>2.0</td>\n      <td>1.0</td>\n      <td>0.25</td>\n      <td>...</td>\n      <td>0.0</td>\n      <td>1.0</td>\n      <td>0.0</td>\n      <td>0.0</td>\n      <td>0.0</td>\n      <td>0.0</td>\n      <td>0.0</td>\n      <td>0.0</td>\n      <td>0.0</td>\n      <td>0.0</td>\n    </tr>\n    <tr>\n      <th>3</th>\n      <td>0.5</td>\n      <td>1.0</td>\n      <td>1.0</td>\n      <td>0.0</td>\n      <td>1.0</td>\n      <td>0.5</td>\n      <td>1.0</td>\n      <td>1.0</td>\n      <td>1.0</td>\n      <td>1.0</td>\n      <td>...</td>\n      <td>0.0</td>\n      <td>0.0</td>\n      <td>1.0</td>\n      <td>0.0</td>\n      <td>0.0</td>\n      <td>0.0</td>\n      <td>0.0</td>\n      <td>0.0</td>\n      <td>0.0</td>\n      <td>0.0</td>\n    </tr>\n    <tr>\n      <th>4</th>\n      <td>2.0</td>\n      <td>0.5</td>\n      <td>1.0</td>\n      <td>1.0</td>\n      <td>2.0</td>\n      <td>2.0</td>\n      <td>1.0</td>\n      <td>1.0</td>\n      <td>0.5</td>\n      <td>1.0</td>\n      <td>...</td>\n      <td>0.0</td>\n      <td>0.0</td>\n      <td>0.0</td>\n      <td>0.0</td>\n      <td>0.0</td>\n      <td>0.0</td>\n      <td>0.0</td>\n      <td>0.0</td>\n      <td>0.0</td>\n      <td>0.0</td>\n    </tr>\n    <tr>\n      <th>...</th>\n      <td>...</td>\n      <td>...</td>\n      <td>...</td>\n      <td>...</td>\n      <td>...</td>\n      <td>...</td>\n      <td>...</td>\n      <td>...</td>\n      <td>...</td>\n      <td>...</td>\n      <td>...</td>\n      <td>...</td>\n      <td>...</td>\n      <td>...</td>\n      <td>...</td>\n      <td>...</td>\n      <td>...</td>\n      <td>...</td>\n      <td>...</td>\n      <td>...</td>\n      <td>...</td>\n    </tr>\n    <tr>\n      <th>595</th>\n      <td>0.5</td>\n      <td>0.5</td>\n      <td>0.0</td>\n      <td>1.0</td>\n      <td>1.0</td>\n      <td>0.5</td>\n      <td>1.0</td>\n      <td>1.0</td>\n      <td>1.0</td>\n      <td>1.0</td>\n      <td>...</td>\n      <td>0.0</td>\n      <td>0.0</td>\n      <td>0.0</td>\n      <td>0.0</td>\n      <td>0.0</td>\n      <td>0.0</td>\n      <td>0.0</td>\n      <td>0.0</td>\n      <td>0.0</td>\n      <td>0.0</td>\n    </tr>\n    <tr>\n      <th>596</th>\n      <td>0.5</td>\n      <td>0.5</td>\n      <td>1.0</td>\n      <td>1.0</td>\n      <td>2.0</td>\n      <td>1.0</td>\n      <td>1.0</td>\n      <td>2.0</td>\n      <td>1.0</td>\n      <td>1.0</td>\n      <td>...</td>\n      <td>0.0</td>\n      <td>0.0</td>\n      <td>0.0</td>\n      <td>0.0</td>\n      <td>0.0</td>\n      <td>0.0</td>\n      <td>0.0</td>\n      <td>0.0</td>\n      <td>0.0</td>\n      <td>0.0</td>\n    </tr>\n    <tr>\n      <th>597</th>\n      <td>0.5</td>\n      <td>1.0</td>\n      <td>0.5</td>\n      <td>1.0</td>\n      <td>0.5</td>\n      <td>4.0</td>\n      <td>1.0</td>\n      <td>0.25</td>\n      <td>1.0</td>\n      <td>1.0</td>\n      <td>...</td>\n      <td>0.0</td>\n      <td>0.0</td>\n      <td>0.0</td>\n      <td>0.0</td>\n      <td>0.0</td>\n      <td>0.0</td>\n      <td>0.0</td>\n      <td>0.0</td>\n      <td>1.0</td>\n      <td>0.0</td>\n    </tr>\n    <tr>\n      <th>598</th>\n      <td>0.5</td>\n      <td>0.5</td>\n      <td>1.0</td>\n      <td>1.0</td>\n      <td>2.0</td>\n      <td>1.0</td>\n      <td>1.0</td>\n      <td>2.0</td>\n      <td>1.0</td>\n      <td>1.0</td>\n      <td>...</td>\n      <td>0.0</td>\n      <td>0.0</td>\n      <td>0.0</td>\n      <td>0.0</td>\n      <td>0.0</td>\n      <td>0.0</td>\n      <td>0.0</td>\n      <td>0.0</td>\n      <td>0.0</td>\n      <td>0.0</td>\n    </tr>\n    <tr>\n      <th>599</th>\n      <td>2.0</td>\n      <td>2.0</td>\n      <td>2.0</td>\n      <td>0.5</td>\n      <td>2.0</td>\n      <td>0.5</td>\n      <td>0.5</td>\n      <td>1.0</td>\n      <td>2.0</td>\n      <td>0.5</td>\n      <td>...</td>\n      <td>0.0</td>\n      <td>0.0</td>\n      <td>0.0</td>\n      <td>0.0</td>\n      <td>0.0</td>\n      <td>0.0</td>\n      <td>0.0</td>\n      <td>0.0</td>\n      <td>0.0</td>\n      <td>0.0</td>\n    </tr>\n  </tbody>\n</table>\n<p>600 rows × 49 columns</p>\n</div>"
     },
     "execution_count": 188,
     "metadata": {},
     "output_type": "execute_result"
    }
   ],
   "source": [
    "# TODO Write your code here\n",
    "from sklearn.preprocessing import OneHotEncoder\n",
    "\n",
    "\n",
    "def ohe_new_features(df, features_name, encoder):\n",
    "    new_feats = encoder.transform(df[features_name])\n",
    "    # create dataframe from encoded features with named columns\n",
    "    new_cols = pd.DataFrame(new_feats, columns=encoder.get_feature_names_out(features_name))\n",
    "    new_df = pd.concat([df, new_cols], axis=1)\n",
    "    new_df.drop(features_name, axis=1, inplace=True)\n",
    "    return new_df\n",
    "\n",
    "\n",
    "encoder = OneHotEncoder(sparse_output=False, drop='first')\n",
    "f_names = ['type1']\n",
    "encoder.fit(X_train[f_names])\n",
    "X_train = ohe_new_features(X_train, f_names, encoder)\n",
    "X_test = ohe_new_features(X_test, f_names, encoder)"
   ]
  },
  {
   "cell_type": "markdown",
   "metadata": {},
   "source": [
    "#### Scale the data"
   ]
  },
  {
   "cell_type": "code",
   "execution_count": 190,
   "metadata": {
    "ExecuteTime": {
     "end_time": "2024-02-23T16:13:38.626062300Z",
     "start_time": "2024-02-23T16:13:38.573095100Z"
    }
   },
   "outputs": [
    {
     "data": {
      "text/plain": "     against_bug  against_dark  against_dragon  against_electric  \\\n0       0.066667      0.066667            0.50             0.250   \n1       0.200000      0.200000            0.50             0.250   \n2       0.066667      0.200000            0.25             0.250   \n3       0.466667      0.200000            0.50             0.125   \n4       0.466667      0.466667            0.50             0.500   \n..           ...           ...             ...               ...   \n196     0.200000      0.200000            0.50             0.500   \n197     0.066667      0.200000            0.50             0.250   \n198     0.066667      0.200000            0.50             0.500   \n199     0.200000      0.200000            0.50             0.250   \n200     0.200000      0.200000            0.50             0.250   \n\n     against_fairy  against_fight  against_fire  against_flying  \\\n0         0.466667          0.250      0.200000        0.466667   \n1         0.200000          0.500      0.200000        0.200000   \n2         0.066667          0.500      0.466667        0.066667   \n3         0.200000          0.250      0.466667        0.466667   \n4         0.200000          0.125      0.066667        0.200000   \n..             ...            ...           ...             ...   \n196       0.200000          0.250      0.066667        0.200000   \n197       0.066667          0.250      0.066667        0.200000   \n198       0.066667          0.125      0.066667        0.200000   \n199       0.200000          0.250      0.200000        0.200000   \n200       0.200000          0.500      0.200000        0.200000   \n\n     against_ghost  against_grass  ...  type1_ghost  type1_grass  \\\n0             0.25       0.200000  ...          0.0          0.0   \n1             0.00       0.200000  ...          0.0          0.0   \n2             0.25       0.066667  ...          0.0          0.0   \n3             0.25       0.066667  ...          0.0          1.0   \n4             0.50       0.466667  ...          0.0          0.0   \n..             ...            ...  ...          ...          ...   \n196           0.25       0.466667  ...          0.0          0.0   \n197           0.25       0.066667  ...          0.0          0.0   \n198           0.25       0.200000  ...          0.0          0.0   \n199           0.25       0.200000  ...          0.0          0.0   \n200           0.00       0.200000  ...          0.0          0.0   \n\n     type1_ground  type1_ice  type1_normal  type1_poison  type1_psychic  \\\n0             0.0        0.0           0.0           0.0            0.0   \n1             0.0        0.0           1.0           0.0            0.0   \n2             0.0        0.0           0.0           0.0            0.0   \n3             0.0        0.0           0.0           0.0            0.0   \n4             0.0        0.0           0.0           0.0            0.0   \n..            ...        ...           ...           ...            ...   \n196           0.0        0.0           0.0           0.0            0.0   \n197           0.0        0.0           0.0           0.0            0.0   \n198           0.0        0.0           0.0           0.0            0.0   \n199           0.0        0.0           0.0           0.0            0.0   \n200           0.0        0.0           1.0           0.0            0.0   \n\n     type1_rock  type1_steel  type1_water  \n0           0.0          0.0          0.0  \n1           0.0          0.0          0.0  \n2           0.0          1.0          0.0  \n3           0.0          0.0          0.0  \n4           0.0          0.0          1.0  \n..          ...          ...          ...  \n196         0.0          0.0          1.0  \n197         0.0          0.0          0.0  \n198         0.0          0.0          1.0  \n199         1.0          0.0          0.0  \n200         0.0          0.0          0.0  \n\n[201 rows x 49 columns]",
      "text/html": "<div>\n<style scoped>\n    .dataframe tbody tr th:only-of-type {\n        vertical-align: middle;\n    }\n\n    .dataframe tbody tr th {\n        vertical-align: top;\n    }\n\n    .dataframe thead th {\n        text-align: right;\n    }\n</style>\n<table border=\"1\" class=\"dataframe\">\n  <thead>\n    <tr style=\"text-align: right;\">\n      <th></th>\n      <th>against_bug</th>\n      <th>against_dark</th>\n      <th>against_dragon</th>\n      <th>against_electric</th>\n      <th>against_fairy</th>\n      <th>against_fight</th>\n      <th>against_fire</th>\n      <th>against_flying</th>\n      <th>against_ghost</th>\n      <th>against_grass</th>\n      <th>...</th>\n      <th>type1_ghost</th>\n      <th>type1_grass</th>\n      <th>type1_ground</th>\n      <th>type1_ice</th>\n      <th>type1_normal</th>\n      <th>type1_poison</th>\n      <th>type1_psychic</th>\n      <th>type1_rock</th>\n      <th>type1_steel</th>\n      <th>type1_water</th>\n    </tr>\n  </thead>\n  <tbody>\n    <tr>\n      <th>0</th>\n      <td>0.066667</td>\n      <td>0.066667</td>\n      <td>0.50</td>\n      <td>0.250</td>\n      <td>0.466667</td>\n      <td>0.250</td>\n      <td>0.200000</td>\n      <td>0.466667</td>\n      <td>0.25</td>\n      <td>0.200000</td>\n      <td>...</td>\n      <td>0.0</td>\n      <td>0.0</td>\n      <td>0.0</td>\n      <td>0.0</td>\n      <td>0.0</td>\n      <td>0.0</td>\n      <td>0.0</td>\n      <td>0.0</td>\n      <td>0.0</td>\n      <td>0.0</td>\n    </tr>\n    <tr>\n      <th>1</th>\n      <td>0.200000</td>\n      <td>0.200000</td>\n      <td>0.50</td>\n      <td>0.250</td>\n      <td>0.200000</td>\n      <td>0.500</td>\n      <td>0.200000</td>\n      <td>0.200000</td>\n      <td>0.00</td>\n      <td>0.200000</td>\n      <td>...</td>\n      <td>0.0</td>\n      <td>0.0</td>\n      <td>0.0</td>\n      <td>0.0</td>\n      <td>1.0</td>\n      <td>0.0</td>\n      <td>0.0</td>\n      <td>0.0</td>\n      <td>0.0</td>\n      <td>0.0</td>\n    </tr>\n    <tr>\n      <th>2</th>\n      <td>0.066667</td>\n      <td>0.200000</td>\n      <td>0.25</td>\n      <td>0.250</td>\n      <td>0.066667</td>\n      <td>0.500</td>\n      <td>0.466667</td>\n      <td>0.066667</td>\n      <td>0.25</td>\n      <td>0.066667</td>\n      <td>...</td>\n      <td>0.0</td>\n      <td>0.0</td>\n      <td>0.0</td>\n      <td>0.0</td>\n      <td>0.0</td>\n      <td>0.0</td>\n      <td>0.0</td>\n      <td>0.0</td>\n      <td>1.0</td>\n      <td>0.0</td>\n    </tr>\n    <tr>\n      <th>3</th>\n      <td>0.466667</td>\n      <td>0.200000</td>\n      <td>0.50</td>\n      <td>0.125</td>\n      <td>0.200000</td>\n      <td>0.250</td>\n      <td>0.466667</td>\n      <td>0.466667</td>\n      <td>0.25</td>\n      <td>0.066667</td>\n      <td>...</td>\n      <td>0.0</td>\n      <td>1.0</td>\n      <td>0.0</td>\n      <td>0.0</td>\n      <td>0.0</td>\n      <td>0.0</td>\n      <td>0.0</td>\n      <td>0.0</td>\n      <td>0.0</td>\n      <td>0.0</td>\n    </tr>\n    <tr>\n      <th>4</th>\n      <td>0.466667</td>\n      <td>0.466667</td>\n      <td>0.50</td>\n      <td>0.500</td>\n      <td>0.200000</td>\n      <td>0.125</td>\n      <td>0.066667</td>\n      <td>0.200000</td>\n      <td>0.50</td>\n      <td>0.466667</td>\n      <td>...</td>\n      <td>0.0</td>\n      <td>0.0</td>\n      <td>0.0</td>\n      <td>0.0</td>\n      <td>0.0</td>\n      <td>0.0</td>\n      <td>0.0</td>\n      <td>0.0</td>\n      <td>0.0</td>\n      <td>1.0</td>\n    </tr>\n    <tr>\n      <th>...</th>\n      <td>...</td>\n      <td>...</td>\n      <td>...</td>\n      <td>...</td>\n      <td>...</td>\n      <td>...</td>\n      <td>...</td>\n      <td>...</td>\n      <td>...</td>\n      <td>...</td>\n      <td>...</td>\n      <td>...</td>\n      <td>...</td>\n      <td>...</td>\n      <td>...</td>\n      <td>...</td>\n      <td>...</td>\n      <td>...</td>\n      <td>...</td>\n      <td>...</td>\n      <td>...</td>\n    </tr>\n    <tr>\n      <th>196</th>\n      <td>0.200000</td>\n      <td>0.200000</td>\n      <td>0.50</td>\n      <td>0.500</td>\n      <td>0.200000</td>\n      <td>0.250</td>\n      <td>0.066667</td>\n      <td>0.200000</td>\n      <td>0.25</td>\n      <td>0.466667</td>\n      <td>...</td>\n      <td>0.0</td>\n      <td>0.0</td>\n      <td>0.0</td>\n      <td>0.0</td>\n      <td>0.0</td>\n      <td>0.0</td>\n      <td>0.0</td>\n      <td>0.0</td>\n      <td>0.0</td>\n      <td>1.0</td>\n    </tr>\n    <tr>\n      <th>197</th>\n      <td>0.066667</td>\n      <td>0.200000</td>\n      <td>0.50</td>\n      <td>0.250</td>\n      <td>0.066667</td>\n      <td>0.250</td>\n      <td>0.066667</td>\n      <td>0.200000</td>\n      <td>0.25</td>\n      <td>0.066667</td>\n      <td>...</td>\n      <td>0.0</td>\n      <td>0.0</td>\n      <td>0.0</td>\n      <td>0.0</td>\n      <td>0.0</td>\n      <td>0.0</td>\n      <td>0.0</td>\n      <td>0.0</td>\n      <td>0.0</td>\n      <td>0.0</td>\n    </tr>\n    <tr>\n      <th>198</th>\n      <td>0.066667</td>\n      <td>0.200000</td>\n      <td>0.50</td>\n      <td>0.500</td>\n      <td>0.066667</td>\n      <td>0.125</td>\n      <td>0.066667</td>\n      <td>0.200000</td>\n      <td>0.25</td>\n      <td>0.200000</td>\n      <td>...</td>\n      <td>0.0</td>\n      <td>0.0</td>\n      <td>0.0</td>\n      <td>0.0</td>\n      <td>0.0</td>\n      <td>0.0</td>\n      <td>0.0</td>\n      <td>0.0</td>\n      <td>0.0</td>\n      <td>1.0</td>\n    </tr>\n    <tr>\n      <th>199</th>\n      <td>0.200000</td>\n      <td>0.200000</td>\n      <td>0.50</td>\n      <td>0.250</td>\n      <td>0.200000</td>\n      <td>0.250</td>\n      <td>0.200000</td>\n      <td>0.200000</td>\n      <td>0.25</td>\n      <td>0.200000</td>\n      <td>...</td>\n      <td>0.0</td>\n      <td>0.0</td>\n      <td>0.0</td>\n      <td>0.0</td>\n      <td>0.0</td>\n      <td>0.0</td>\n      <td>0.0</td>\n      <td>1.0</td>\n      <td>0.0</td>\n      <td>0.0</td>\n    </tr>\n    <tr>\n      <th>200</th>\n      <td>0.200000</td>\n      <td>0.200000</td>\n      <td>0.50</td>\n      <td>0.250</td>\n      <td>0.200000</td>\n      <td>0.500</td>\n      <td>0.200000</td>\n      <td>0.200000</td>\n      <td>0.00</td>\n      <td>0.200000</td>\n      <td>...</td>\n      <td>0.0</td>\n      <td>0.0</td>\n      <td>0.0</td>\n      <td>0.0</td>\n      <td>1.0</td>\n      <td>0.0</td>\n      <td>0.0</td>\n      <td>0.0</td>\n      <td>0.0</td>\n      <td>0.0</td>\n    </tr>\n  </tbody>\n</table>\n<p>201 rows × 49 columns</p>\n</div>"
     },
     "execution_count": 190,
     "metadata": {},
     "output_type": "execute_result"
    }
   ],
   "source": [
    "from sklearn.preprocessing import StandardScaler, RobustScaler, MinMaxScaler\n",
    "\n",
    "# Define a scaler instance from one of the above\n",
    "# TODO Write your code here\n",
    "scaler = MinMaxScaler()\n",
    "\n",
    "\n",
    "# Apply the scaler on both train and test features\n",
    "# TODO Write your code here\n",
    "scaler.fit(X_train)\n",
    "X_train = pd.DataFrame(scaler.transform(X_train), columns=X_train.columns)\n",
    "X_test = pd.DataFrame(scaler.transform(X_test), columns=X_test.columns)\n",
    "X_test"
   ]
  },
  {
   "cell_type": "markdown",
   "metadata": {},
   "source": [
    "#### <span style=\"color:red\">Correlation matrix</span>"
   ]
  },
  {
   "cell_type": "markdown",
   "metadata": {},
   "source": [
    "Are there highly co-related features in the dataset? Is it a problem? Explain in the markdown cell."
   ]
  },
  {
   "cell_type": "code",
   "execution_count": 191,
   "metadata": {
    "ExecuteTime": {
     "end_time": "2024-02-23T16:17:55.098476900Z",
     "start_time": "2024-02-23T16:17:54.250491800Z"
    }
   },
   "outputs": [
    {
     "data": {
      "text/plain": "<Figure size 3000x3000 with 0 Axes>"
     },
     "execution_count": 191,
     "metadata": {},
     "output_type": "execute_result"
    },
    {
     "data": {
      "text/plain": "<Figure size 3000x3000 with 0 Axes>"
     },
     "metadata": {},
     "output_type": "display_data"
    }
   ],
   "source": [
    "import seaborn as sns\n",
    "import matplotlib.pyplot as plt\n",
    "\n",
    "plt.figure(figsize=(30, 30))\n",
    "\n",
    "# Plot the correlation matrix\n",
    "# TODO Write your code here"
   ]
  },
  {
   "cell_type": "markdown",
   "metadata": {},
   "source": []
  },
  {
   "cell_type": "markdown",
   "metadata": {},
   "source": [
    "### 4.2 Model fitting and Comparison"
   ]
  },
  {
   "cell_type": "markdown",
   "metadata": {},
   "source": [
    "#### Tuning LR model"
   ]
  },
  {
   "cell_type": "code",
   "execution_count": 192,
   "metadata": {
    "ExecuteTime": {
     "end_time": "2024-02-23T16:25:18.620206800Z",
     "start_time": "2024-02-23T16:25:18.592224400Z"
    }
   },
   "outputs": [],
   "source": [
    "# Caclulate and print classification metrics: accuracy, precision, recall, and F1 score \n",
    "# TODO Write your code here\n",
    "def print_clf_metrics(y_actual, y_pred):\n",
    "    mse = metrics.mean_squared_error(y_actual, y_pred)\n",
    "    rmse = np.sqrt(mse)\n",
    "    mae = metrics.mean_absolute_error(y_actual, y_pred)\n",
    "    r_2 = metrics.r2_score(y_actual, y_pred)\n",
    "    print('Mean squared error:', mse)\n",
    "    print('Root mean squared error:', rmse)\n",
    "    print('Mean absolute error:', mae)\n",
    "    print('R-2 score:', r_2)"
   ]
  },
  {
   "cell_type": "code",
   "execution_count": null,
   "metadata": {
    "ExecuteTime": {
     "start_time": "2024-02-23T15:54:49.307252300Z"
    }
   },
   "outputs": [],
   "source": [
    "# Specify GridSearchCV as in instruction\n",
    "# TODO Write your code here\n",
    "parameters = ..."
   ]
  },
  {
   "cell_type": "code",
   "execution_count": null,
   "metadata": {
    "ExecuteTime": {
     "start_time": "2024-02-23T15:54:49.310250600Z"
    }
   },
   "outputs": [],
   "source": [
    "from sklearn.linear_model import LogisticRegression\n",
    "from sklearn import metrics\n",
    "from sklearn.model_selection import GridSearchCV\n",
    "\n",
    "# Declare and train logistic regression inside GridSearchCV with the parameters above\n",
    "# Set max_iter=1000 in LR constructor\n",
    "# TODO Write your code here\n",
    "lr_clf_gs = ..."
   ]
  },
  {
   "cell_type": "code",
   "execution_count": null,
   "metadata": {
    "ExecuteTime": {
     "start_time": "2024-02-23T15:54:49.315425Z"
    }
   },
   "outputs": [],
   "source": [
    "print(\"Tuned Hyperparameters :\", )\n",
    "print(\"Accuracy :\", )"
   ]
  },
  {
   "cell_type": "markdown",
   "metadata": {},
   "source": [
    "#### Construct a LR with the best params and Evaluate the LR with the best params"
   ]
  },
  {
   "cell_type": "code",
   "execution_count": null,
   "metadata": {
    "ExecuteTime": {
     "start_time": "2024-02-23T15:54:49.320244500Z"
    }
   },
   "outputs": [],
   "source": [
    "# TODO Write your code here\n",
    "lr_clf = ...\n",
    "lr_y_pred = ..."
   ]
  },
  {
   "cell_type": "code",
   "execution_count": null,
   "metadata": {
    "ExecuteTime": {
     "start_time": "2024-02-23T15:54:49.324241500Z"
    }
   },
   "outputs": [],
   "source": [
    "print_clf_metrics(y_test, lr_y_pred)"
   ]
  },
  {
   "cell_type": "markdown",
   "metadata": {},
   "source": [
    "#### Print the top 5 most influencing features and the top 5 ignored features"
   ]
  },
  {
   "cell_type": "code",
   "execution_count": null,
   "metadata": {
    "ExecuteTime": {
     "start_time": "2024-02-23T15:54:49.327240100Z"
    }
   },
   "outputs": [],
   "source": [
    "# TODO Write your code here"
   ]
  },
  {
   "cell_type": "markdown",
   "metadata": {},
   "source": [
    "#### Tuning KNN model"
   ]
  },
  {
   "cell_type": "code",
   "execution_count": null,
   "metadata": {
    "ExecuteTime": {
     "start_time": "2024-02-23T15:54:49.330237600Z"
    }
   },
   "outputs": [],
   "source": [
    "from sklearn.neighbors import KNeighborsClassifier\n",
    "\n",
    "# Declare and train knn inside GridSearchCV\n",
    "# TODO Write your code here\n",
    "param_grid = ...\n",
    "knn_clf_gs = ...\n",
    "\n",
    "print(\"Tuned Hyperparameters :\", )\n",
    "print(\"Accuracy :\", )"
   ]
  },
  {
   "cell_type": "markdown",
   "metadata": {},
   "source": [
    "#### Construct a KNN model with the best params and Evaluate the KNN with the best params\n"
   ]
  },
  {
   "cell_type": "code",
   "execution_count": null,
   "metadata": {
    "ExecuteTime": {
     "start_time": "2024-02-23T15:54:49.333236200Z"
    }
   },
   "outputs": [],
   "source": [
    "# TODO Write your code here\n",
    "knn_clf = ...\n",
    "knn_y_pred = ...\n",
    "print_clf_metrics(y_test, knn_y_pred)"
   ]
  },
  {
   "cell_type": "markdown",
   "metadata": {},
   "source": [
    "#### Fitting GNB to the data and evaluating on the test dataset"
   ]
  },
  {
   "cell_type": "code",
   "execution_count": null,
   "metadata": {
    "ExecuteTime": {
     "start_time": "2024-02-23T15:54:49.335402900Z"
    }
   },
   "outputs": [],
   "source": [
    "from sklearn.naive_bayes import GaussianNB\n",
    "\n",
    "# Declare and train GaussianNB. No hyperparameters tuning \n",
    "# TODO Write your code here\n",
    "gauss_nb_clf = ...\n",
    "gauss_y_pred = ...\n",
    "\n",
    "print_clf_metrics(y_test, gauss_y_pred)"
   ]
  },
  {
   "cell_type": "markdown",
   "metadata": {},
   "source": [
    "#### Which metric is most appropriate for this task and why?"
   ]
  },
  {
   "cell_type": "markdown",
   "metadata": {},
   "source": [
    "#### Compare the 3 classifiers in terms of accuracy, precision, recall and F1-score.\n",
    "What is the best model for this task? Explain"
   ]
  },
  {
   "cell_type": "code",
   "execution_count": null,
   "metadata": {
    "ExecuteTime": {
     "start_time": "2024-02-23T15:54:49.337233800Z"
    }
   },
   "outputs": [],
   "source": [
    "# TODO Write your code here"
   ]
  },
  {
   "cell_type": "markdown",
   "metadata": {},
   "source": []
  },
  {
   "cell_type": "markdown",
   "metadata": {},
   "source": [
    "## 5. Bonus Task"
   ]
  },
  {
   "cell_type": "markdown",
   "metadata": {},
   "source": [
    "#### Loading the Dataset"
   ]
  },
  {
   "cell_type": "code",
   "execution_count": null,
   "metadata": {
    "ExecuteTime": {
     "start_time": "2024-02-23T15:54:49.340231400Z"
    }
   },
   "outputs": [],
   "source": [
    "import pandas as pd\n",
    "\n",
    "# TODO Write your code here\n",
    "train_data = ...\n",
    "\n",
    "test_data = ..."
   ]
  },
  {
   "cell_type": "code",
   "execution_count": null,
   "metadata": {
    "ExecuteTime": {
     "start_time": "2024-02-23T15:54:49.342230500Z"
    }
   },
   "outputs": [],
   "source": [
    "# Split the data\n",
    "# TODO Write your code here\n",
    "X_train, X_test, y_train, y_test = ...\n",
    "print(X_train, y_train, X_test, y_test)"
   ]
  },
  {
   "cell_type": "markdown",
   "metadata": {},
   "source": [
    "####  Plot the data using the pairplot in sns"
   ]
  },
  {
   "cell_type": "code",
   "execution_count": null,
   "metadata": {
    "ExecuteTime": {
     "start_time": "2024-02-23T15:54:49.344229200Z"
    }
   },
   "outputs": [],
   "source": [
    "import seaborn as sns\n",
    "import matplotlib.pyplot as plt\n",
    "# TODO Write your code here"
   ]
  },
  {
   "cell_type": "markdown",
   "metadata": {},
   "source": [
    "#### Fit LR to the training dataset using OVR and evaluate on the test dataset"
   ]
  },
  {
   "cell_type": "code",
   "execution_count": null,
   "metadata": {
    "ExecuteTime": {
     "start_time": "2024-02-23T15:54:49.347227900Z"
    }
   },
   "outputs": [],
   "source": [
    "# TODO Write your code here\n",
    "ovr_lr = ..."
   ]
  },
  {
   "cell_type": "markdown",
   "metadata": {},
   "source": [
    "#### Fit LR to the training dataset using multinomial and evaluate on the test dataset\n"
   ]
  },
  {
   "cell_type": "code",
   "execution_count": null,
   "metadata": {
    "ExecuteTime": {
     "start_time": "2024-02-23T15:54:49.349226200Z"
    }
   },
   "outputs": [],
   "source": [
    "# TODO Write your code here\n",
    "multi_lr = ..."
   ]
  },
  {
   "cell_type": "markdown",
   "metadata": {},
   "source": [
    "#### Using gridsearch to tune the C value and multi class"
   ]
  },
  {
   "cell_type": "code",
   "execution_count": null,
   "metadata": {
    "ExecuteTime": {
     "start_time": "2024-02-23T15:54:49.351224900Z"
    }
   },
   "outputs": [],
   "source": [
    "# TODO Write your code here\n",
    "params = ...\n",
    "grid_search_clf = ..."
   ]
  },
  {
   "cell_type": "code",
   "execution_count": null,
   "metadata": {
    "ExecuteTime": {
     "start_time": "2024-02-23T15:54:49.353223500Z"
    }
   },
   "outputs": [],
   "source": [
    "print(\"Tuned Hyperparameters :\")\n",
    "print(\"Accuracy :\")"
   ]
  },
  {
   "cell_type": "markdown",
   "metadata": {},
   "source": [
    "#### Comment on why one multi_class technique was better than the other"
   ]
  },
  {
   "cell_type": "markdown",
   "metadata": {},
   "source": []
  },
  {
   "cell_type": "markdown",
   "metadata": {},
   "source": [
    "#### Create LR with the best params"
   ]
  },
  {
   "cell_type": "code",
   "execution_count": null,
   "metadata": {
    "ExecuteTime": {
     "start_time": "2024-02-23T15:54:49.356221900Z"
    }
   },
   "outputs": [],
   "source": [
    "# TODO Write your code here\n",
    "multi_lr = ..."
   ]
  },
  {
   "cell_type": "markdown",
   "metadata": {},
   "source": [
    "#### Visualize the decision boundaries"
   ]
  },
  {
   "cell_type": "code",
   "execution_count": null,
   "metadata": {
    "ExecuteTime": {
     "start_time": "2024-02-23T15:54:49.358220600Z"
    }
   },
   "outputs": [],
   "source": [
    "from mlxtend.plotting import plot_decision_regions\n",
    "\n",
    "# TODO Write your code here\n",
    "multi_lr = ...\n",
    "\n",
    "plot_decision_regions()\n",
    "\n",
    "plt.xlabel('Feature 1')\n",
    "plt.ylabel('Feature 2')\n",
    "plt.title('Logistic Regression decision boundary)\n",
    "plt.show()"
   ]
  },
  {
   "cell_type": "markdown",
   "metadata": {},
   "source": [
    "#### Comment on the decision boundary, do you think this is a good model or not? and based on what?"
   ]
  },
  {
   "cell_type": "markdown",
   "metadata": {},
   "source": []
  }
 ],
 "metadata": {
  "kernelspec": {
   "display_name": "Python 3 (ipykernel)",
   "language": "python",
   "name": "python3"
  },
  "language_info": {
   "codemirror_mode": {
    "name": "ipython",
    "version": 3
   },
   "file_extension": ".py",
   "mimetype": "text/x-python",
   "name": "python",
   "nbconvert_exporter": "python",
   "pygments_lexer": "ipython3",
   "version": "3.8.10"
  }
 },
 "nbformat": 4,
 "nbformat_minor": 1
}
